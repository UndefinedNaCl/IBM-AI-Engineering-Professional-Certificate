{
 "cells": [
  {
   "cell_type": "markdown",
   "metadata": {},
   "source": [
    "<a href=\"https://cognitiveclass.ai/?utm_medium=Exinfluencer&utm_source=Exinfluencer&utm_content=000026UJ&utm_term=10006555&utm_id=NA-SkillsNetwork-Channel-SkillsNetworkCoursesIBMDeveloperSkillsNetworkDL0101ENSkillsNetwork945-2022-01-01\"><img src=\"https://cf-courses-data.s3.us.cloud-object-storage.appdomain.cloud/IBMDeveloperSkillsNetwork-DL0101EN-SkillsNetwork/images/IDSN-logo.png\" width=\"400\"> </a>\n",
    "\n",
    "<h1 align=center><font size = 5>Convolutional Neural Networks with Keras</font></h1>\n"
   ]
  },
  {
   "cell_type": "markdown",
   "metadata": {},
   "source": [
    "In this lab, we will learn how to use the Keras library to build convolutional neural networks. We will also use the popular MNIST dataset and we will compare our results to using a conventional neural network.\n"
   ]
  },
  {
   "cell_type": "markdown",
   "metadata": {},
   "source": [
    "<h2>Convolutional Neural Networks with Keras</h2>\n",
    "\n",
    "<h3>Objective for this Notebook<h3>    \n",
    "<h5> 1. How to use the Keras library to build convolutional neural networks.</h5>\n",
    "<h5> 2. Convolutional Neural Network with One Convolutional and Pooling Layers.</h5>\n",
    "<h5> 3. Convolutional Neural Network with Two Convolutional and Pooling Layers.</h5>\n",
    "\n"
   ]
  },
  {
   "cell_type": "markdown",
   "metadata": {},
   "source": [
    "## Table of Contents\n",
    "\n",
    "<div class=\"alert alert-block alert-info\" style=\"margin-top: 20px\">\n",
    "\n",
    "<font size = 3>\n",
    "      \n",
    "1. <a href=\"#item41\">Import Keras and Packages</a>   \n",
    "2. <a href=\"#item42\">Convolutional Neural Network with One Convolutional and Pooling Layers</a>  \n",
    "3. <a href=\"#item43\">Convolutional Neural Network with Two Convolutional and Pooling Layers</a>  \n",
    "\n",
    "</font>\n",
    "</div>\n"
   ]
  },
  {
   "cell_type": "markdown",
   "metadata": {},
   "source": [
    "<a id='item41'></a>\n"
   ]
  },
  {
   "cell_type": "markdown",
   "metadata": {},
   "source": [
    "## Import Keras and Packages\n"
   ]
  },
  {
   "cell_type": "markdown",
   "metadata": {},
   "source": [
    "Let's start by importing the keras libraries and the packages that we would need to build a neural network.\n"
   ]
  },
  {
   "cell_type": "code",
   "execution_count": 1,
   "metadata": {
    "tags": []
   },
   "outputs": [],
   "source": [
    "# All Libraries required for this lab are listed below. The libraries pre-installed on Skills Network Labs are commented. \n",
    "# If you run this notebook on a different environment, e.g. your desktop, you may need to uncomment and install certain libraries.\n",
    "\n",
    "#!pip install numpy==1.21.4\n",
    "#!pip install pandas==1.3.4\n",
    "#!pip install keras==2.1.6"
   ]
  },
  {
   "cell_type": "code",
   "execution_count": 2,
   "metadata": {
    "tags": []
   },
   "outputs": [
    {
     "name": "stderr",
     "output_type": "stream",
     "text": [
      "/home/jupyterlab/conda/envs/python/lib/python3.7/site-packages/sklearn/utils/validation.py:37: DeprecationWarning: distutils Version classes are deprecated. Use packaging.version instead.\n",
      "  LARGE_SPARSE_SUPPORTED = LooseVersion(scipy_version) >= '0.14.0'\n",
      "Using TensorFlow backend.\n",
      "/home/jupyterlab/conda/envs/python/lib/python3.7/site-packages/tensorflow/python/framework/dtypes.py:516: FutureWarning: Passing (type, 1) or '1type' as a synonym of type is deprecated; in a future version of numpy, it will be understood as (type, (1,)) / '(1,)type'.\n",
      "  _np_qint8 = np.dtype([(\"qint8\", np.int8, 1)])\n",
      "/home/jupyterlab/conda/envs/python/lib/python3.7/site-packages/tensorflow/python/framework/dtypes.py:517: FutureWarning: Passing (type, 1) or '1type' as a synonym of type is deprecated; in a future version of numpy, it will be understood as (type, (1,)) / '(1,)type'.\n",
      "  _np_quint8 = np.dtype([(\"quint8\", np.uint8, 1)])\n",
      "/home/jupyterlab/conda/envs/python/lib/python3.7/site-packages/tensorflow/python/framework/dtypes.py:518: FutureWarning: Passing (type, 1) or '1type' as a synonym of type is deprecated; in a future version of numpy, it will be understood as (type, (1,)) / '(1,)type'.\n",
      "  _np_qint16 = np.dtype([(\"qint16\", np.int16, 1)])\n",
      "/home/jupyterlab/conda/envs/python/lib/python3.7/site-packages/tensorflow/python/framework/dtypes.py:519: FutureWarning: Passing (type, 1) or '1type' as a synonym of type is deprecated; in a future version of numpy, it will be understood as (type, (1,)) / '(1,)type'.\n",
      "  _np_quint16 = np.dtype([(\"quint16\", np.uint16, 1)])\n",
      "/home/jupyterlab/conda/envs/python/lib/python3.7/site-packages/tensorflow/python/framework/dtypes.py:520: FutureWarning: Passing (type, 1) or '1type' as a synonym of type is deprecated; in a future version of numpy, it will be understood as (type, (1,)) / '(1,)type'.\n",
      "  _np_qint32 = np.dtype([(\"qint32\", np.int32, 1)])\n",
      "/home/jupyterlab/conda/envs/python/lib/python3.7/site-packages/tensorflow/python/framework/dtypes.py:525: FutureWarning: Passing (type, 1) or '1type' as a synonym of type is deprecated; in a future version of numpy, it will be understood as (type, (1,)) / '(1,)type'.\n",
      "  np_resource = np.dtype([(\"resource\", np.ubyte, 1)])\n",
      "/home/jupyterlab/conda/envs/python/lib/python3.7/site-packages/tensorboard/compat/tensorflow_stub/dtypes.py:541: FutureWarning: Passing (type, 1) or '1type' as a synonym of type is deprecated; in a future version of numpy, it will be understood as (type, (1,)) / '(1,)type'.\n",
      "  _np_qint8 = np.dtype([(\"qint8\", np.int8, 1)])\n",
      "/home/jupyterlab/conda/envs/python/lib/python3.7/site-packages/tensorboard/compat/tensorflow_stub/dtypes.py:542: FutureWarning: Passing (type, 1) or '1type' as a synonym of type is deprecated; in a future version of numpy, it will be understood as (type, (1,)) / '(1,)type'.\n",
      "  _np_quint8 = np.dtype([(\"quint8\", np.uint8, 1)])\n",
      "/home/jupyterlab/conda/envs/python/lib/python3.7/site-packages/tensorboard/compat/tensorflow_stub/dtypes.py:543: FutureWarning: Passing (type, 1) or '1type' as a synonym of type is deprecated; in a future version of numpy, it will be understood as (type, (1,)) / '(1,)type'.\n",
      "  _np_qint16 = np.dtype([(\"qint16\", np.int16, 1)])\n",
      "/home/jupyterlab/conda/envs/python/lib/python3.7/site-packages/tensorboard/compat/tensorflow_stub/dtypes.py:544: FutureWarning: Passing (type, 1) or '1type' as a synonym of type is deprecated; in a future version of numpy, it will be understood as (type, (1,)) / '(1,)type'.\n",
      "  _np_quint16 = np.dtype([(\"quint16\", np.uint16, 1)])\n",
      "/home/jupyterlab/conda/envs/python/lib/python3.7/site-packages/tensorboard/compat/tensorflow_stub/dtypes.py:545: FutureWarning: Passing (type, 1) or '1type' as a synonym of type is deprecated; in a future version of numpy, it will be understood as (type, (1,)) / '(1,)type'.\n",
      "  _np_qint32 = np.dtype([(\"qint32\", np.int32, 1)])\n",
      "/home/jupyterlab/conda/envs/python/lib/python3.7/site-packages/tensorboard/compat/tensorflow_stub/dtypes.py:550: FutureWarning: Passing (type, 1) or '1type' as a synonym of type is deprecated; in a future version of numpy, it will be understood as (type, (1,)) / '(1,)type'.\n",
      "  np_resource = np.dtype([(\"resource\", np.ubyte, 1)])\n"
     ]
    }
   ],
   "source": [
    "import pandas as pd\n",
    "import numpy as np\n",
    "from sklearn.model_selection import train_test_split\n",
    "from sklearn.preprocessing import StandardScaler\n",
    "from keras.models import Sequential\n",
    "from keras.layers import Dense\n",
    "from keras.optimizers import Adam\n"
   ]
  },
  {
   "cell_type": "markdown",
   "metadata": {},
   "source": [
    "When working with convolutional neural networks in particular, we will need additional packages.\n"
   ]
  },
  {
   "cell_type": "code",
   "execution_count": 4,
   "metadata": {
    "tags": []
   },
   "outputs": [],
   "source": [
    "from keras.layers.convolutional import Conv2D # to add convolutional layers\n",
    "from keras.layers.convolutional import MaxPooling2D # to add pooling layers\n",
    "from keras.layers import Flatten # to flatten data for fully connected layers"
   ]
  },
  {
   "cell_type": "code",
   "execution_count": 7,
   "metadata": {
    "tags": []
   },
   "outputs": [
    {
     "data": {
      "text/html": [
       "<div>\n",
       "<style scoped>\n",
       "    .dataframe tbody tr th:only-of-type {\n",
       "        vertical-align: middle;\n",
       "    }\n",
       "\n",
       "    .dataframe tbody tr th {\n",
       "        vertical-align: top;\n",
       "    }\n",
       "\n",
       "    .dataframe thead th {\n",
       "        text-align: right;\n",
       "    }\n",
       "</style>\n",
       "<table border=\"1\" class=\"dataframe\">\n",
       "  <thead>\n",
       "    <tr style=\"text-align: right;\">\n",
       "      <th></th>\n",
       "      <th>Cement</th>\n",
       "      <th>Blast Furnace Slag</th>\n",
       "      <th>Fly Ash</th>\n",
       "      <th>Water</th>\n",
       "      <th>Superplasticizer</th>\n",
       "      <th>Coarse Aggregate</th>\n",
       "      <th>Fine Aggregate</th>\n",
       "      <th>Age</th>\n",
       "      <th>Strength</th>\n",
       "    </tr>\n",
       "  </thead>\n",
       "  <tbody>\n",
       "    <tr>\n",
       "      <th>0</th>\n",
       "      <td>540.0</td>\n",
       "      <td>0.0</td>\n",
       "      <td>0.0</td>\n",
       "      <td>162.0</td>\n",
       "      <td>2.5</td>\n",
       "      <td>1040.0</td>\n",
       "      <td>676.0</td>\n",
       "      <td>28</td>\n",
       "      <td>79.99</td>\n",
       "    </tr>\n",
       "    <tr>\n",
       "      <th>1</th>\n",
       "      <td>540.0</td>\n",
       "      <td>0.0</td>\n",
       "      <td>0.0</td>\n",
       "      <td>162.0</td>\n",
       "      <td>2.5</td>\n",
       "      <td>1055.0</td>\n",
       "      <td>676.0</td>\n",
       "      <td>28</td>\n",
       "      <td>61.89</td>\n",
       "    </tr>\n",
       "    <tr>\n",
       "      <th>2</th>\n",
       "      <td>332.5</td>\n",
       "      <td>142.5</td>\n",
       "      <td>0.0</td>\n",
       "      <td>228.0</td>\n",
       "      <td>0.0</td>\n",
       "      <td>932.0</td>\n",
       "      <td>594.0</td>\n",
       "      <td>270</td>\n",
       "      <td>40.27</td>\n",
       "    </tr>\n",
       "    <tr>\n",
       "      <th>3</th>\n",
       "      <td>332.5</td>\n",
       "      <td>142.5</td>\n",
       "      <td>0.0</td>\n",
       "      <td>228.0</td>\n",
       "      <td>0.0</td>\n",
       "      <td>932.0</td>\n",
       "      <td>594.0</td>\n",
       "      <td>365</td>\n",
       "      <td>41.05</td>\n",
       "    </tr>\n",
       "    <tr>\n",
       "      <th>4</th>\n",
       "      <td>198.6</td>\n",
       "      <td>132.4</td>\n",
       "      <td>0.0</td>\n",
       "      <td>192.0</td>\n",
       "      <td>0.0</td>\n",
       "      <td>978.4</td>\n",
       "      <td>825.5</td>\n",
       "      <td>360</td>\n",
       "      <td>44.30</td>\n",
       "    </tr>\n",
       "  </tbody>\n",
       "</table>\n",
       "</div>"
      ],
      "text/plain": [
       "   Cement  Blast Furnace Slag  Fly Ash  Water  Superplasticizer  \\\n",
       "0   540.0                 0.0      0.0  162.0               2.5   \n",
       "1   540.0                 0.0      0.0  162.0               2.5   \n",
       "2   332.5               142.5      0.0  228.0               0.0   \n",
       "3   332.5               142.5      0.0  228.0               0.0   \n",
       "4   198.6               132.4      0.0  192.0               0.0   \n",
       "\n",
       "   Coarse Aggregate  Fine Aggregate  Age  Strength  \n",
       "0            1040.0           676.0   28     79.99  \n",
       "1            1055.0           676.0   28     61.89  \n",
       "2             932.0           594.0  270     40.27  \n",
       "3             932.0           594.0  365     41.05  \n",
       "4             978.4           825.5  360     44.30  "
      ]
     },
     "execution_count": 7,
     "metadata": {},
     "output_type": "execute_result"
    }
   ],
   "source": [
    "# Load the dataset\n",
    "data = pd.read_csv('https://cocl.us/concrete_data')\n",
    "\n",
    "# Display the first few rows of the dataset\n",
    "data.head()\n"
   ]
  },
  {
   "cell_type": "markdown",
   "metadata": {},
   "source": [
    "<a id='item42'></a>\n"
   ]
  },
  {
   "cell_type": "markdown",
   "metadata": {
    "tags": []
   },
   "source": [
    "## Split the dataset into features X and target Y\n"
   ]
  },
  {
   "cell_type": "code",
   "execution_count": 11,
   "metadata": {
    "tags": []
   },
   "outputs": [],
   "source": [
    "# Split the dataset into features (X) and target (y)\n",
    "X = data.drop('Strength', axis=1)\n",
    "y = data['Strength']\n",
    "\n",
    "# Split data into training and testing sets (80-20 split)\n",
    "X_train, X_test, y_train, y_test = train_test_split(X, y, test_size=0.2, random_state=42)"
   ]
  },
  {
   "cell_type": "markdown",
   "metadata": {},
   "source": [
    "Normalize the features for better performance\n",
    "\n"
   ]
  },
  {
   "cell_type": "code",
   "execution_count": 12,
   "metadata": {
    "tags": []
   },
   "outputs": [
    {
     "name": "stderr",
     "output_type": "stream",
     "text": [
      "/home/jupyterlab/conda/envs/python/lib/python3.7/site-packages/sklearn/preprocessing/data.py:625: DataConversionWarning: Data with input dtype int64, float64 were all converted to float64 by StandardScaler.\n",
      "  return self.partial_fit(X, y)\n",
      "/home/jupyterlab/conda/envs/python/lib/python3.7/site-packages/sklearn/base.py:462: DataConversionWarning: Data with input dtype int64, float64 were all converted to float64 by StandardScaler.\n",
      "  return self.fit(X, **fit_params).transform(X)\n",
      "/home/jupyterlab/conda/envs/python/lib/python3.7/site-packages/ipykernel_launcher.py:3: DataConversionWarning: Data with input dtype int64, float64 were all converted to float64 by StandardScaler.\n",
      "  This is separate from the ipykernel package so we can avoid doing imports until\n"
     ]
    }
   ],
   "source": [
    "scaler = StandardScaler()\n",
    "X_train = scaler.fit_transform(X_train)\n",
    "X_test = scaler.transform(X_test)"
   ]
  },
  {
   "cell_type": "markdown",
   "metadata": {},
   "source": [
    "# Build the Neural Network model"
   ]
  },
  {
   "cell_type": "code",
   "execution_count": 14,
   "metadata": {
    "tags": []
   },
   "outputs": [
    {
     "name": "stdout",
     "output_type": "stream",
     "text": [
      "WARNING:tensorflow:From /home/jupyterlab/conda/envs/python/lib/python3.7/site-packages/keras/optimizers.py:757: The name tf.train.Optimizer is deprecated. Please use tf.compat.v1.train.Optimizer instead.\n",
      "\n"
     ]
    }
   ],
   "source": [
    "# Initialize the model\n",
    "model = Sequential()\n",
    "\n",
    "# Add input layer and first hidden layer with 10 neurons and ReLU activation\n",
    "model.add(Dense(10, input_dim=X_train.shape[1], activation='relu'))\n",
    "\n",
    "# Add a second hidden layer with 10 neurons\n",
    "model.add(Dense(10, activation='relu'))\n",
    "\n",
    "# Add output layer with 1 neuron (regression task)\n",
    "model.add(Dense(1))\n",
    "\n",
    "# Compile the model with Adam optimizer and mean squared error loss\n",
    "model.compile(optimizer=Adam(lr=0.01), loss='mse')\n"
   ]
  },
  {
   "cell_type": "markdown",
   "metadata": {},
   "source": [
    "Next we train the model"
   ]
  },
  {
   "cell_type": "code",
   "execution_count": 15,
   "metadata": {
    "tags": []
   },
   "outputs": [
    {
     "name": "stdout",
     "output_type": "stream",
     "text": [
      "WARNING:tensorflow:From /home/jupyterlab/conda/envs/python/lib/python3.7/site-packages/keras/backend/tensorflow_backend.py:977: The name tf.assign_add is deprecated. Please use tf.compat.v1.assign_add instead.\n",
      "\n",
      "WARNING:tensorflow:From /home/jupyterlab/conda/envs/python/lib/python3.7/site-packages/keras/backend/tensorflow_backend.py:964: The name tf.assign is deprecated. Please use tf.compat.v1.assign instead.\n",
      "\n",
      "Train on 824 samples, validate on 206 samples\n",
      "Epoch 1/100\n"
     ]
    },
    {
     "name": "stderr",
     "output_type": "stream",
     "text": [
      "2024-10-04 03:55:21.415932: I tensorflow/core/platform/cpu_feature_guard.cc:142] Your CPU supports instructions that this TensorFlow binary was not compiled to use: SSE4.1 SSE4.2 AVX AVX2 AVX512F FMA\n",
      "2024-10-04 03:55:21.421093: I tensorflow/core/platform/profile_utils/cpu_utils.cc:94] CPU Frequency: 2394325000 Hz\n",
      "2024-10-04 03:55:21.421736: I tensorflow/compiler/xla/service/service.cc:168] XLA service 0x562e40c28dc0 executing computations on platform Host. Devices:\n",
      "2024-10-04 03:55:21.421780: I tensorflow/compiler/xla/service/service.cc:175]   StreamExecutor device (0): <undefined>, <undefined>\n",
      "2024-10-04 03:55:21.563985: W tensorflow/compiler/jit/mark_for_compilation_pass.cc:1412] (One-time warning): Not using XLA:CPU for cluster because envvar TF_XLA_FLAGS=--tf_xla_cpu_global_jit was not set.  If you want XLA:CPU, either set that envvar, or use experimental_jit_scope to enable XLA:CPU.  To confirm that XLA is active, pass --vmodule=xla_compilation_cache=1 (as a proper command-line flag, not via TF_XLA_FLAGS) or set the envvar XLA_FLAGS=--xla_hlo_profile.\n"
     ]
    },
    {
     "name": "stdout",
     "output_type": "stream",
     "text": [
      "824/824 [==============================] - 0s 467us/step - loss: 1374.8950 - val_loss: 984.2601\n",
      "Epoch 2/100\n",
      "824/824 [==============================] - 0s 116us/step - loss: 609.8368 - val_loss: 217.0316\n",
      "Epoch 3/100\n",
      "824/824 [==============================] - 0s 115us/step - loss: 235.6823 - val_loss: 163.1965\n",
      "Epoch 4/100\n",
      "824/824 [==============================] - 0s 121us/step - loss: 177.1174 - val_loss: 141.5339\n",
      "Epoch 5/100\n",
      "824/824 [==============================] - 0s 113us/step - loss: 155.0029 - val_loss: 127.1689\n",
      "Epoch 6/100\n",
      "824/824 [==============================] - 0s 96us/step - loss: 142.2511 - val_loss: 123.9818\n",
      "Epoch 7/100\n",
      "824/824 [==============================] - 0s 79us/step - loss: 137.1826 - val_loss: 118.3878\n",
      "Epoch 8/100\n",
      "824/824 [==============================] - 0s 94us/step - loss: 131.4790 - val_loss: 114.1304\n",
      "Epoch 9/100\n",
      "824/824 [==============================] - 0s 92us/step - loss: 127.6774 - val_loss: 110.8870\n",
      "Epoch 10/100\n",
      "824/824 [==============================] - 0s 106us/step - loss: 125.0971 - val_loss: 112.8564\n",
      "Epoch 11/100\n",
      "824/824 [==============================] - 0s 93us/step - loss: 122.4271 - val_loss: 109.0671\n",
      "Epoch 12/100\n",
      "824/824 [==============================] - 0s 100us/step - loss: 120.5271 - val_loss: 107.0964\n",
      "Epoch 13/100\n",
      "824/824 [==============================] - 0s 84us/step - loss: 117.3232 - val_loss: 106.1692\n",
      "Epoch 14/100\n",
      "824/824 [==============================] - 0s 94us/step - loss: 116.4138 - val_loss: 107.7592\n",
      "Epoch 15/100\n",
      "824/824 [==============================] - 0s 80us/step - loss: 114.6313 - val_loss: 101.5206\n",
      "Epoch 16/100\n",
      "824/824 [==============================] - 0s 94us/step - loss: 111.2725 - val_loss: 104.0106\n",
      "Epoch 17/100\n",
      "824/824 [==============================] - 0s 91us/step - loss: 109.2954 - val_loss: 97.5694\n",
      "Epoch 18/100\n",
      "824/824 [==============================] - 0s 78us/step - loss: 109.9057 - val_loss: 100.6569\n",
      "Epoch 19/100\n",
      "824/824 [==============================] - 0s 91us/step - loss: 104.3757 - val_loss: 96.4973\n",
      "Epoch 20/100\n",
      "824/824 [==============================] - 0s 76us/step - loss: 103.1178 - val_loss: 94.9261\n",
      "Epoch 21/100\n",
      "824/824 [==============================] - 0s 91us/step - loss: 101.5581 - val_loss: 94.7270\n",
      "Epoch 22/100\n",
      "824/824 [==============================] - 0s 75us/step - loss: 97.0544 - val_loss: 89.2569\n",
      "Epoch 23/100\n",
      "824/824 [==============================] - 0s 77us/step - loss: 99.3007 - val_loss: 90.4961\n",
      "Epoch 24/100\n",
      "824/824 [==============================] - 0s 75us/step - loss: 95.1089 - val_loss: 88.5523\n",
      "Epoch 25/100\n",
      "824/824 [==============================] - 0s 85us/step - loss: 89.3336 - val_loss: 84.3051\n",
      "Epoch 26/100\n",
      "824/824 [==============================] - 0s 77us/step - loss: 83.9784 - val_loss: 77.9715\n",
      "Epoch 27/100\n",
      "824/824 [==============================] - 0s 91us/step - loss: 79.4615 - val_loss: 75.2333\n",
      "Epoch 28/100\n",
      "824/824 [==============================] - 0s 77us/step - loss: 74.8501 - val_loss: 75.6948\n",
      "Epoch 29/100\n",
      "824/824 [==============================] - 0s 90us/step - loss: 73.2836 - val_loss: 73.3433\n",
      "Epoch 30/100\n",
      "824/824 [==============================] - 0s 78us/step - loss: 71.2976 - val_loss: 68.8773\n",
      "Epoch 31/100\n",
      "824/824 [==============================] - 0s 88us/step - loss: 70.7146 - val_loss: 66.6769\n",
      "Epoch 32/100\n",
      "824/824 [==============================] - 0s 83us/step - loss: 68.0932 - val_loss: 66.7180\n",
      "Epoch 33/100\n",
      "824/824 [==============================] - 0s 75us/step - loss: 67.5308 - val_loss: 64.8765\n",
      "Epoch 34/100\n",
      "824/824 [==============================] - 0s 75us/step - loss: 64.2534 - val_loss: 63.4465\n",
      "Epoch 35/100\n",
      "824/824 [==============================] - 0s 77us/step - loss: 63.7402 - val_loss: 64.4558\n",
      "Epoch 36/100\n",
      "824/824 [==============================] - 0s 75us/step - loss: 62.2089 - val_loss: 62.1917\n",
      "Epoch 37/100\n",
      "824/824 [==============================] - 0s 87us/step - loss: 61.7158 - val_loss: 57.3177\n",
      "Epoch 38/100\n",
      "824/824 [==============================] - 0s 77us/step - loss: 58.8633 - val_loss: 55.3390\n",
      "Epoch 39/100\n",
      "824/824 [==============================] - 0s 76us/step - loss: 57.6014 - val_loss: 53.1530\n",
      "Epoch 40/100\n",
      "824/824 [==============================] - 0s 86us/step - loss: 58.0616 - val_loss: 57.1440\n",
      "Epoch 41/100\n",
      "824/824 [==============================] - 0s 76us/step - loss: 56.7810 - val_loss: 59.0990\n",
      "Epoch 42/100\n",
      "824/824 [==============================] - 0s 78us/step - loss: 56.0724 - val_loss: 52.1373\n",
      "Epoch 43/100\n",
      "824/824 [==============================] - 0s 94us/step - loss: 55.1456 - val_loss: 48.5383\n",
      "Epoch 44/100\n",
      "824/824 [==============================] - 0s 76us/step - loss: 54.8650 - val_loss: 50.6161\n",
      "Epoch 45/100\n",
      "824/824 [==============================] - 0s 74us/step - loss: 54.2843 - val_loss: 53.8985\n",
      "Epoch 46/100\n",
      "824/824 [==============================] - 0s 80us/step - loss: 52.9960 - val_loss: 49.1410\n",
      "Epoch 47/100\n",
      "824/824 [==============================] - 0s 75us/step - loss: 51.5169 - val_loss: 51.2850\n",
      "Epoch 48/100\n",
      "824/824 [==============================] - 0s 91us/step - loss: 52.5608 - val_loss: 56.8468\n",
      "Epoch 49/100\n",
      "824/824 [==============================] - 0s 94us/step - loss: 51.4488 - val_loss: 45.0007\n",
      "Epoch 50/100\n",
      "824/824 [==============================] - 0s 76us/step - loss: 50.6943 - val_loss: 46.7408\n",
      "Epoch 51/100\n",
      "824/824 [==============================] - 0s 88us/step - loss: 49.9288 - val_loss: 46.8894\n",
      "Epoch 52/100\n",
      "824/824 [==============================] - 0s 73us/step - loss: 49.2678 - val_loss: 48.9254\n",
      "Epoch 53/100\n",
      "824/824 [==============================] - 0s 76us/step - loss: 48.6565 - val_loss: 48.1647\n",
      "Epoch 54/100\n",
      "824/824 [==============================] - 0s 91us/step - loss: 49.5938 - val_loss: 46.7270\n",
      "Epoch 55/100\n",
      "824/824 [==============================] - 0s 82us/step - loss: 48.5847 - val_loss: 45.7964\n",
      "Epoch 56/100\n",
      "824/824 [==============================] - 0s 85us/step - loss: 51.8408 - val_loss: 47.7026\n",
      "Epoch 57/100\n",
      "824/824 [==============================] - 0s 79us/step - loss: 47.3852 - val_loss: 48.0693\n",
      "Epoch 58/100\n",
      "824/824 [==============================] - 0s 74us/step - loss: 47.9515 - val_loss: 45.1029\n",
      "Epoch 59/100\n",
      "824/824 [==============================] - 0s 66us/step - loss: 47.8519 - val_loss: 45.7067\n",
      "Epoch 60/100\n",
      "824/824 [==============================] - 0s 69us/step - loss: 49.6053 - val_loss: 42.6598\n",
      "Epoch 61/100\n",
      "824/824 [==============================] - 0s 79us/step - loss: 47.0103 - val_loss: 48.5409\n",
      "Epoch 62/100\n",
      "824/824 [==============================] - 0s 73us/step - loss: 45.4217 - val_loss: 49.0377\n",
      "Epoch 63/100\n",
      "824/824 [==============================] - 0s 118us/step - loss: 46.9556 - val_loss: 47.2631\n",
      "Epoch 64/100\n",
      "824/824 [==============================] - 0s 89us/step - loss: 45.6359 - val_loss: 45.4323\n",
      "Epoch 65/100\n",
      "824/824 [==============================] - 0s 73us/step - loss: 46.8759 - val_loss: 49.0657\n",
      "Epoch 66/100\n",
      "824/824 [==============================] - 0s 96us/step - loss: 43.1832 - val_loss: 46.0817\n",
      "Epoch 67/100\n",
      "824/824 [==============================] - 0s 76us/step - loss: 45.3334 - val_loss: 45.9425\n",
      "Epoch 68/100\n",
      "824/824 [==============================] - 0s 76us/step - loss: 42.0867 - val_loss: 43.3078\n",
      "Epoch 69/100\n",
      "824/824 [==============================] - 0s 85us/step - loss: 42.3977 - val_loss: 53.3231\n",
      "Epoch 70/100\n",
      "824/824 [==============================] - 0s 61us/step - loss: 43.0779 - val_loss: 44.9288\n",
      "Epoch 71/100\n",
      "824/824 [==============================] - 0s 76us/step - loss: 41.0022 - val_loss: 47.1345\n",
      "Epoch 72/100\n",
      "824/824 [==============================] - 0s 76us/step - loss: 42.8116 - val_loss: 58.7221\n",
      "Epoch 73/100\n",
      "824/824 [==============================] - 0s 75us/step - loss: 44.2181 - val_loss: 42.5711\n",
      "Epoch 74/100\n",
      "824/824 [==============================] - 0s 118us/step - loss: 40.7983 - val_loss: 41.8044\n",
      "Epoch 75/100\n",
      "824/824 [==============================] - 0s 72us/step - loss: 41.1623 - val_loss: 43.9926\n",
      "Epoch 76/100\n",
      "824/824 [==============================] - 0s 72us/step - loss: 38.9720 - val_loss: 45.2592\n",
      "Epoch 77/100\n",
      "824/824 [==============================] - 0s 85us/step - loss: 37.5104 - val_loss: 47.2793\n",
      "Epoch 78/100\n",
      "824/824 [==============================] - 0s 74us/step - loss: 38.0723 - val_loss: 43.5324\n",
      "Epoch 79/100\n",
      "824/824 [==============================] - 0s 78us/step - loss: 37.3862 - val_loss: 46.6800\n",
      "Epoch 80/100\n",
      "824/824 [==============================] - 0s 74us/step - loss: 38.4363 - val_loss: 44.3964\n",
      "Epoch 81/100\n",
      "824/824 [==============================] - 0s 74us/step - loss: 38.1142 - val_loss: 44.4674\n",
      "Epoch 82/100\n",
      "824/824 [==============================] - 0s 83us/step - loss: 37.1777 - val_loss: 43.5797\n",
      "Epoch 83/100\n",
      "824/824 [==============================] - 0s 83us/step - loss: 37.4125 - val_loss: 45.7339\n",
      "Epoch 84/100\n",
      "824/824 [==============================] - 0s 74us/step - loss: 37.2821 - val_loss: 42.1285\n",
      "Epoch 85/100\n",
      "824/824 [==============================] - 0s 72us/step - loss: 37.6300 - val_loss: 46.2534\n",
      "Epoch 86/100\n",
      "824/824 [==============================] - 0s 72us/step - loss: 39.0967 - val_loss: 48.1168\n",
      "Epoch 87/100\n",
      "824/824 [==============================] - 0s 110us/step - loss: 37.8163 - val_loss: 42.6990\n",
      "Epoch 88/100\n",
      "824/824 [==============================] - 0s 102us/step - loss: 36.5812 - val_loss: 44.5730\n",
      "Epoch 89/100\n",
      "824/824 [==============================] - 0s 77us/step - loss: 36.2840 - val_loss: 44.8032\n",
      "Epoch 90/100\n",
      "824/824 [==============================] - 0s 86us/step - loss: 36.2037 - val_loss: 41.3660\n",
      "Epoch 91/100\n",
      "824/824 [==============================] - 0s 78us/step - loss: 36.8211 - val_loss: 43.6958\n",
      "Epoch 92/100\n",
      "824/824 [==============================] - 0s 73us/step - loss: 36.9231 - val_loss: 49.2173\n",
      "Epoch 93/100\n",
      "824/824 [==============================] - 0s 75us/step - loss: 36.4203 - val_loss: 43.0990\n",
      "Epoch 94/100\n",
      "824/824 [==============================] - 0s 74us/step - loss: 35.8959 - val_loss: 41.3342\n",
      "Epoch 95/100\n",
      "824/824 [==============================] - 0s 75us/step - loss: 36.5112 - val_loss: 45.1993\n",
      "Epoch 96/100\n",
      "824/824 [==============================] - 0s 87us/step - loss: 35.4578 - val_loss: 45.9459\n",
      "Epoch 97/100\n",
      "824/824 [==============================] - 0s 84us/step - loss: 36.2421 - val_loss: 44.8273\n",
      "Epoch 98/100\n",
      "824/824 [==============================] - 0s 86us/step - loss: 35.7799 - val_loss: 45.5238\n",
      "Epoch 99/100\n",
      "824/824 [==============================] - 0s 71us/step - loss: 34.8367 - val_loss: 50.9697\n",
      "Epoch 100/100\n",
      "824/824 [==============================] - 0s 71us/step - loss: 39.7492 - val_loss: 50.8838\n"
     ]
    }
   ],
   "source": [
    "# Train the model for 100 epochs with a batch size of 32\n",
    "history = model.fit(X_train, y_train, validation_data=(X_test, y_test), epochs=100, batch_size=32, verbose=1)\n"
   ]
  },
  {
   "cell_type": "markdown",
   "metadata": {},
   "source": [
    "Evaluate the Model"
   ]
  },
  {
   "cell_type": "code",
   "execution_count": 16,
   "metadata": {
    "tags": []
   },
   "outputs": [
    {
     "name": "stdout",
     "output_type": "stream",
     "text": [
      "Test MSE Loss: 50.88384024610797\n"
     ]
    }
   ],
   "source": [
    "# Evaluate the model performance on the test set\n",
    "test_loss = model.evaluate(X_test, y_test, verbose=0)\n",
    "print(f'Test MSE Loss: {test_loss}')\n"
   ]
  },
  {
   "cell_type": "markdown",
   "metadata": {},
   "source": [
    "------------------------------------------\n"
   ]
  },
  {
   "cell_type": "markdown",
   "metadata": {},
   "source": [
    "<a id='item43'></a>\n"
   ]
  },
  {
   "cell_type": "markdown",
   "metadata": {},
   "source": [
    "## Vizualize the training process\n"
   ]
  },
  {
   "cell_type": "markdown",
   "metadata": {},
   "source": [
    "Let's redefine our convolutional model so that it has two convolutional and pooling layers instead of just one layer of each.\n"
   ]
  },
  {
   "cell_type": "code",
   "execution_count": 17,
   "metadata": {
    "tags": []
   },
   "outputs": [
    {
     "data": {
      "image/png": "[encoded data removed]",
      "text/plain": [
       "<Figure size 640x480 with 1 Axes>"
      ]
     },
     "metadata": {},
     "output_type": "display_data"
    }
   ],
   "source": [
    "import matplotlib.pyplot as plt\n",
    "\n",
    "# Plot training and validation loss over epochs\n",
    "plt.plot(history.history['loss'], label='Training Loss')\n",
    "plt.plot(history.history['val_loss'], label='Validation Loss')\n",
    "plt.xlabel('Epochs')\n",
    "plt.ylabel('Mean Squared Error Loss')\n",
    "plt.legend()\n",
    "plt.show()\n"
   ]
  },
  {
   "cell_type": "markdown",
   "metadata": {},
   "source": [
    "Making Predictions"
   ]
  },
  {
   "cell_type": "code",
   "execution_count": 18,
   "metadata": {
    "tags": []
   },
   "outputs": [
    {
     "data": {
      "text/html": [
       "<div>\n",
       "<style scoped>\n",
       "    .dataframe tbody tr th:only-of-type {\n",
       "        vertical-align: middle;\n",
       "    }\n",
       "\n",
       "    .dataframe tbody tr th {\n",
       "        vertical-align: top;\n",
       "    }\n",
       "\n",
       "    .dataframe thead th {\n",
       "        text-align: right;\n",
       "    }\n",
       "</style>\n",
       "<table border=\"1\" class=\"dataframe\">\n",
       "  <thead>\n",
       "    <tr style=\"text-align: right;\">\n",
       "      <th></th>\n",
       "      <th>Actual</th>\n",
       "      <th>Predicted</th>\n",
       "    </tr>\n",
       "  </thead>\n",
       "  <tbody>\n",
       "    <tr>\n",
       "      <th>0</th>\n",
       "      <td>52.91</td>\n",
       "      <td>50.747295</td>\n",
       "    </tr>\n",
       "    <tr>\n",
       "      <th>1</th>\n",
       "      <td>55.90</td>\n",
       "      <td>40.241589</td>\n",
       "    </tr>\n",
       "    <tr>\n",
       "      <th>2</th>\n",
       "      <td>74.50</td>\n",
       "      <td>63.480789</td>\n",
       "    </tr>\n",
       "    <tr>\n",
       "      <th>3</th>\n",
       "      <td>35.30</td>\n",
       "      <td>36.013428</td>\n",
       "    </tr>\n",
       "    <tr>\n",
       "      <th>4</th>\n",
       "      <td>10.54</td>\n",
       "      <td>16.272081</td>\n",
       "    </tr>\n",
       "  </tbody>\n",
       "</table>\n",
       "</div>"
      ],
      "text/plain": [
       "   Actual  Predicted\n",
       "0   52.91  50.747295\n",
       "1   55.90  40.241589\n",
       "2   74.50  63.480789\n",
       "3   35.30  36.013428\n",
       "4   10.54  16.272081"
      ]
     },
     "execution_count": 18,
     "metadata": {},
     "output_type": "execute_result"
    }
   ],
   "source": [
    "# Make predictions on the test set\n",
    "y_pred = model.predict(X_test)\n",
    "\n",
    "# Display first 5 predictions vs actual values\n",
    "comparison = pd.DataFrame({'Actual': y_test.values, 'Predicted': y_pred.flatten()})\n",
    "comparison.head()\n"
   ]
  },
  {
   "cell_type": "markdown",
   "metadata": {},
   "source": [
    "### Thank you for completing this lab!\n",
    "\n",
    "This notebook was created by [Alex Aklson](https://www.linkedin.com/in/aklson/?utm_medium=Exinfluencer&utm_source=Exinfluencer&utm_content=000026UJ&utm_term=10006555&utm_id=NA-SkillsNetwork-Channel-SkillsNetworkCoursesIBMDeveloperSkillsNetworkDL0101ENSkillsNetwork945-2022-01-01). I hope you found this lab interesting and educational. Feel free to contact me if you have any questions!\n"
   ]
  },
  {
   "cell_type": "markdown",
   "metadata": {},
   "source": [
    "\n",
    "## Change Log\n",
    "\n",
    "|  Date (YYYY-MM-DD) |  Version | Changed By  |  Change Description |\n",
    "|---|---|---|---|\n",
    "| 2020-09-21  | 2.0  | Srishti  |  Migrated Lab to Markdown and added to course repo in GitLab |\n",
    "\n",
    "\n",
    "\n",
    "<hr>\n",
    "\n",
    "## <h3 align=\"center\"> © IBM Corporation 2020. All rights reserved. <h3/>\n"
   ]
  },
  {
   "cell_type": "markdown",
   "metadata": {},
   "source": [
    "This notebook is part of a course on **Coursera** called *Introduction to Deep Learning & Neural Networks with Keras*. If you accessed this notebook outside the course, you can take this course online by clicking [here](https://cocl.us/DL0101EN_Coursera_Week4_LAB1).\n"
   ]
  },
  {
   "cell_type": "markdown",
   "metadata": {},
   "source": [
    "<hr>\n",
    "\n",
    "Copyright &copy; 2019 [IBM Developer Skills Network](https://cognitiveclass.ai/?utm_medium=dswb&utm_source=bducopyrightlink&utm_content=000026UJ&utm_term=10006555&utm_id=NA-SkillsNetwork-Channel-SkillsNetworkCoursesIBMDeveloperSkillsNetworkDL0101ENSkillsNetwork945-2022-01-01&utm_campaign=bdu). This notebook and its source code are released under the terms of the [MIT License](https://bigdatauniversity.com/mit-license/?utm_medium=Exinfluencer&utm_source=Exinfluencer&utm_content=000026UJ&utm_term=10006555&utm_id=NA-SkillsNetwork-Channel-SkillsNetworkCoursesIBMDeveloperSkillsNetworkDL0101ENSkillsNetwork945-2022-01-01).\n"
   ]
  }
 ],
 "metadata": {
  "kernelspec": {
   "display_name": "Python",
   "language": "python",
   "name": "conda-env-python-py"
  },
  "language_info": {
   "codemirror_mode": {
    "name": "ipython",
    "version": 3
   },
   "file_extension": ".py",
   "mimetype": "text/x-python",
   "name": "python",
   "nbconvert_exporter": "python",
   "pygments_lexer": "ipython3",
   "version": "3.7.12"
  }
 },
 "nbformat": 4,
 "nbformat_minor": 4
}
